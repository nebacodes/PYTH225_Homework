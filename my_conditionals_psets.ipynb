{
  "nbformat": 4,
  "nbformat_minor": 0,
  "metadata": {
    "colab": {
      "name": "my_conditionals_psets.ipynb",
      "provenance": [],
      "collapsed_sections": [
        "gijpYMCLV00L",
        "c70y61m1Vtn3",
        "zayFQdU7Vto2"
      ],
      "toc_visible": true,
      "include_colab_link": true
    },
    "kernelspec": {
      "name": "python3",
      "display_name": "Python 3"
    }
  },
  "cells": [
    {
      "cell_type": "markdown",
      "metadata": {
        "id": "view-in-github",
        "colab_type": "text"
      },
      "source": [
        "<a href=\"https://colab.research.google.com/github/nebacodes/PYTH225_Homework/blob/master/my_conditionals_psets.ipynb\" target=\"_parent\"><img src=\"https://colab.research.google.com/assets/colab-badge.svg\" alt=\"Open In Colab\"/></a>"
      ]
    },
    {
      "cell_type": "markdown",
      "metadata": {
        "id": "FiL9pv11VtnR",
        "colab_type": "text"
      },
      "source": [
        "#  CONDITIONALS\n",
        "\n",
        "\n"
      ]
    },
    {
      "cell_type": "markdown",
      "metadata": {
        "id": "gijpYMCLV00L",
        "colab_type": "text"
      },
      "source": [
        "## WEATHER"
      ]
    },
    {
      "cell_type": "markdown",
      "metadata": {
        "id": "KL7ytXn4V2WB",
        "colab_type": "text"
      },
      "source": [
        "### P1.PY"
      ]
    },
    {
      "cell_type": "code",
      "metadata": {
        "id": "e32ChHBAVtnU",
        "colab_type": "code",
        "outputId": "64d89bad-ad36-4f8f-ee37-2e3dd373f512",
        "colab": {
          "base_uri": "https://localhost:8080/",
          "height": 85
        }
      },
      "source": [
        "\"\"\"\n",
        "Weather I - Do you need boots?\n",
        "\"\"\"\n",
        "\n",
        "# Use the values of the vars defined below to ouput the correct contextual \n",
        "# answer to the questions below. (Note: The variables themselves ARE \n",
        "# the questions.)\n",
        "\n",
        "# Example:\n",
        "## am_i_hungry = False\n",
        "## am_i_tired = True\n",
        "## do_i_need_to_stay_awake = False\n",
        "\n",
        "## should_i_drink_coffee_now = am_i_tired and do_i_need_to_stay_awake\n",
        "\n",
        "## ^^ This ^^ evaluates to False. If you're tired and don't need to stay awake, you don't need to drink coffee!\n",
        "\n",
        "\n",
        "is_it_raining = True\n",
        "is_it_snowing = False\n",
        "\n",
        "\n",
        "do_i_need_snow_boots = (is_it_snowing == True)\n",
        "print (do_i_need_snow_boots) #You don't need snow boots if it is not snowing.\n",
        "\n",
        "can_i_skip_snow_boots = (is_it_snowing == False)\n",
        "print (can_i_skip_snow_boots) #If it is not snowing then you can skip snow boots.\n",
        "\n",
        "do_i_need_rain_boots = (is_it_raining == True) #If it is raining, you need the rain boots.\n",
        "print (do_i_need_rain_boots)\n",
        "\n",
        "can_i_skip_rain_boots = (is_it_raining == False)\n",
        "print (can_i_skip_rain_boots) #If it is not raining then you can skip rain boots.\n"
      ],
      "execution_count": 0,
      "outputs": [
        {
          "output_type": "stream",
          "text": [
            "False\n",
            "False\n",
            "True\n",
            "False\n"
          ],
          "name": "stdout"
        }
      ]
    },
    {
      "cell_type": "markdown",
      "metadata": {
        "id": "t9cxGL-8VtnX",
        "colab_type": "text"
      },
      "source": [
        "\n",
        "\n",
        "### P2.PY\n",
        "\n",
        "\n"
      ]
    },
    {
      "cell_type": "code",
      "metadata": {
        "id": "y80DTzliVtnY",
        "colab_type": "code",
        "outputId": "8cdfd61d-a523-4658-a904-7dc98ecabf18",
        "colab": {
          "base_uri": "https://localhost:8080/",
          "height": 84
        }
      },
      "source": [
        "\"\"\"\n",
        "Weather II - Precipitation\n",
        "\"\"\"\n",
        "\n",
        "# Repeat the same process as p1, using this new set of variables.\n",
        "\n",
        "sunny = True\n",
        "raining = True\n",
        "snowing = False\n",
        "\n",
        "is_it_sunny = sunny\n",
        "is_there_precipitation = raining or snowing\n",
        "is_it_sleeting = (raining == True) and (snowing == True)\n",
        "is_there_rainbow = sunny and raining\n",
        "\n",
        "print(is_it_sunny)\n",
        "print(is_there_precipitation)\n",
        "print(is_it_sleeting)\n",
        "print(is_there_rainbow)\n",
        "\n"
      ],
      "execution_count": 0,
      "outputs": [
        {
          "output_type": "stream",
          "text": [
            "True\n",
            "True\n",
            "False\n",
            "True\n"
          ],
          "name": "stdout"
        }
      ]
    },
    {
      "cell_type": "markdown",
      "metadata": {
        "id": "777sx1WCVtno",
        "colab_type": "text"
      },
      "source": [
        "\n",
        "\n",
        "### P3.PY\n",
        "\n",
        "\n"
      ]
    },
    {
      "cell_type": "code",
      "metadata": {
        "id": "9dNGqX2wVtnp",
        "colab_type": "code",
        "outputId": "4e4abb03-7d01-4b09-ce25-14fbf0f02083",
        "colab": {
          "base_uri": "https://localhost:8080/",
          "height": 84
        }
      },
      "source": [
        "\"\"\"\n",
        "Weather III - Describe Conditions\n",
        "\"\"\"\n",
        "\n",
        "# Repeat the same process as p1, using this new set of variables.\n",
        "\n",
        "\n",
        "is_it_warm = True\n",
        "is_it_humid = True\n",
        "is_it_cold = False\n",
        "is_it_icy = False\n",
        "is_it_foggy = False\n",
        "is_it_windy = False\n",
        "is_it_overcast = True\n",
        "\n",
        "\n",
        "is_it_summer_weather = is_it_warm or not is_it_cold # If it is warm and it is not cold, it is summer weather\n",
        "is_rain_coming = is_it_humid or is_it_overcast # If it is humid or if it is overcast, rain might be on the way!\n",
        "is_it_muggy = is_it_humid and is_it_warm # If it is humid and it is warm, it is muggy.\n",
        "do_i_need_coat = is_it_cold or is_it_windy # If it is cold and if it is windy, you may need a coat!\n",
        "\n",
        "print(is_it_summer_weather)\n",
        "print(is_rain_coming)\n",
        "print(is_it_muggy)\n",
        "print(do_i_need_coat)\n"
      ],
      "execution_count": 0,
      "outputs": [
        {
          "output_type": "stream",
          "text": [
            "True\n",
            "True\n",
            "True\n",
            "False\n"
          ],
          "name": "stdout"
        }
      ]
    },
    {
      "cell_type": "markdown",
      "metadata": {
        "id": "L3zbwXGcEp6j",
        "colab_type": "text"
      },
      "source": [
        "In class practice."
      ]
    },
    {
      "cell_type": "code",
      "metadata": {
        "id": "U24ElgZDEtcu",
        "colab_type": "code",
        "outputId": "3b74a39a-33f4-4a58-a14a-8bc009b6e683",
        "colab": {
          "base_uri": "https://localhost:8080/",
          "height": 84
        }
      },
      "source": [
        "#temp = input (\"Input current temperature: \")\n",
        "\n",
        "temp = '64'\n",
        "try:\n",
        "  if int (temp) < 65:\n",
        "    print (\"wear a jacket!\")\n",
        "except Exception as e:\n",
        "  print(f\"Something went wrong! {e}\")\n",
        "\n",
        "\n",
        "my_test = input (\"what am i: \")\n",
        "print (f\"my test is: {my_test}\")\n",
        "print (f\"my test TYPE is: {type(my_test)}\")\n",
        "\n"
      ],
      "execution_count": 30,
      "outputs": [
        {
          "output_type": "stream",
          "text": [
            "wear a jacket!\n",
            "what am i: 65\n",
            "my test is: 65\n",
            "my test TYPE is: <class 'str'>\n"
          ],
          "name": "stdout"
        }
      ]
    },
    {
      "cell_type": "code",
      "metadata": {
        "id": "HrOqOR8bH3UE",
        "colab_type": "code",
        "outputId": "241cf1cf-5237-402b-e9cb-74d2894270b8",
        "colab": {
          "base_uri": "https://localhost:8080/",
          "height": 34
        }
      },
      "source": [
        "a = '1'\n",
        "\n",
        "try:\n",
        "\n",
        "  my_condition = a < 0\n",
        "  if my_condition:\n",
        "    print('this code will run')\n",
        "  else:\n",
        "      print('a must have been greated than 0')\n",
        "\n",
        "except Exception as e:\n",
        "        print(f\"a is not properly set {e}\")"
      ],
      "execution_count": 0,
      "outputs": [
        {
          "output_type": "stream",
          "text": [
            "a is not properly set '<' not supported between instances of 'str' and 'int'\n"
          ],
          "name": "stdout"
        }
      ]
    },
    {
      "cell_type": "markdown",
      "metadata": {
        "id": "c70y61m1Vtn3",
        "colab_type": "text"
      },
      "source": [
        "## LOGIC\n",
        "\n",
        "\n"
      ]
    },
    {
      "cell_type": "markdown",
      "metadata": {
        "id": "6IGtJU8oV5a8",
        "colab_type": "text"
      },
      "source": [
        "### P1.PY"
      ]
    },
    {
      "cell_type": "code",
      "metadata": {
        "id": "8dx3WRHBVtn4",
        "colab_type": "code",
        "outputId": "0611a729-da9d-4cab-c2b5-bd9b51de54f3",
        "colab": {
          "base_uri": "https://localhost:8080/",
          "height": 34
        }
      },
      "source": [
        "\"\"\"\n",
        "Calculate Grade\n",
        "\"\"\"\n",
        "\n",
        "grade = 10000  # expect this to be a number\n",
        "\n",
        "if type(grade)!=int or type(grade)!=float:\n",
        "  print ('grade type is not valid')\n",
        "elif grade < 0 and grade > 100:\n",
        "  print ('grade is not valid')\n",
        "elif grade >= 90:\n",
        "   print('A')\n",
        "elif grade >=80:\n",
        "     print('B')\n",
        "elif grade >=70:\n",
        "     print('C')\n",
        "elif grade >=65:\n",
        "     print('D')\n",
        "else:\n",
        "     print('F')\n",
        "\n",
        "# write a program that will print the \"letter\"\n",
        "# equivalent of the grade, for example:\n",
        "# when grade = 90 # -> expect A\n",
        "# when grade = 80 # -> expect B\n",
        "# when grade = 70 # -> expect C\n",
        "# when grade = 60 # -> expect D\n",
        "# when grade = 54 # -> expect F\n",
        "# when grade = -10 # -> expect Error\n",
        "# when grade = 10000 # -> expect Error\n",
        "# when grade = \"lol skool sucks\" # -> expect Error\n"
      ],
      "execution_count": 0,
      "outputs": [
        {
          "output_type": "stream",
          "text": [
            "grade type is not valid\n"
          ],
          "name": "stdout"
        }
      ]
    },
    {
      "cell_type": "markdown",
      "metadata": {
        "id": "HLfJLQFKVtoK",
        "colab_type": "text"
      },
      "source": [
        "\n",
        "\n",
        "### P2.PY\n",
        "\n",
        "\n"
      ]
    },
    {
      "cell_type": "code",
      "metadata": {
        "id": "g3fT3CxqVtoO",
        "colab_type": "code",
        "colab": {}
      },
      "source": [
        "\"\"\"\n",
        "Sign of Product\n",
        "\"\"\"\n",
        "\n",
        "# Given three numbers, a, b, c, without multiplying, determine the sign of their product.\n",
        "\n",
        "# EXAMPLE: a = -5, b = 6, c = -4, print 1\n",
        "\n",
        "# EXAMPLE: a = 5, b = 6, c = -4, print -1\n"
      ],
      "execution_count": 0,
      "outputs": []
    },
    {
      "cell_type": "code",
      "metadata": {
        "id": "fyOr0_g0NR4E",
        "colab_type": "code",
        "outputId": "fb10fcb8-d4ee-4775-b237-7b7fcc7c86d2",
        "colab": {
          "base_uri": "https://localhost:8080/",
          "height": 34
        }
      },
      "source": [
        "a = 0\n",
        "b = 0\n",
        "c = 0\n",
        "\n",
        "if_a_negative = a < 0\n",
        "if_b_negative = b < 0\n",
        "if_c_negative = c < 0\n",
        "\n",
        "summed = int (if_a_negative) + int (if_b_negative) + int (if_c_negative)\n",
        "if a == 0 or b == 0 or c == 0:\n",
        "  print('zero')\n",
        "elif summed == 1 or summed == 3:\n",
        "  print ('negative')\n",
        "else:\n",
        "  print('positive')\n",
        "\n"
      ],
      "execution_count": 0,
      "outputs": [
        {
          "output_type": "stream",
          "text": [
            "zero\n"
          ],
          "name": "stdout"
        }
      ]
    },
    {
      "cell_type": "markdown",
      "metadata": {
        "id": "eUuhYKriVtoS",
        "colab_type": "text"
      },
      "source": [
        "\n",
        "\n",
        "### P3.PY\n",
        "\n",
        "\n"
      ]
    },
    {
      "cell_type": "code",
      "metadata": {
        "id": "gtAMAAaYVtoT",
        "colab_type": "code",
        "colab": {}
      },
      "source": [
        "\"\"\"\n",
        "Any Uppercase\n",
        "\"\"\"\n",
        "\n",
        "# Given a string str, determine if there are any uppercase values in it. Use \n",
        "#only conditional statements and string methods (you may have to look some up!)\n",
        "\n",
        "# EXAMPLE: str = \"teSt\", print True\n"
      ],
      "execution_count": 0,
      "outputs": []
    },
    {
      "cell_type": "code",
      "metadata": {
        "id": "Eg7Qv3EJAlPm",
        "colab_type": "code",
        "outputId": "0343b1fa-5937-46c6-f447-63e8e69a4be7",
        "colab": {
          "base_uri": "https://localhost:8080/",
          "height": 50
        }
      },
      "source": [
        "\n",
        "word_1 = 'homeWork'\n",
        "print(any(c.isupper() for c in word_1))\n",
        "\n",
        "word_2 = 'homework'\n",
        "print(any(c.isupper() for c in word_2))\n"
      ],
      "execution_count": 0,
      "outputs": [
        {
          "output_type": "stream",
          "text": [
            "True\n",
            "False\n"
          ],
          "name": "stdout"
        }
      ]
    },
    {
      "cell_type": "markdown",
      "metadata": {
        "id": "wG8CE6QTVtoW",
        "colab_type": "text"
      },
      "source": [
        "\n",
        "\n",
        "### P4.PY\n",
        "\n",
        "\n"
      ]
    },
    {
      "cell_type": "code",
      "metadata": {
        "id": "xZ5Mt4jSVtoX",
        "colab_type": "code",
        "colab": {}
      },
      "source": [
        "\"\"\"\n",
        "Empty Strings\n",
        "\"\"\"\n",
        "\n",
        "# Given any empty string, of the form:\n",
        "\n",
        "# ''\n",
        "# ' '\n",
        "# '  '\n",
        "# any other num of spaces...\n",
        "\n",
        "# determine if the str is empty or not (print True or False). Hint: You'll need to look up how to remove trailing spaces from a string.\n"
      ],
      "execution_count": 0,
      "outputs": []
    },
    {
      "cell_type": "code",
      "metadata": {
        "id": "1tuCfeQwEnBx",
        "colab_type": "code",
        "outputId": "7ab4bcf7-0010-4c37-9e4a-cb7b200692c8",
        "colab": {
          "base_uri": "https://localhost:8080/",
          "height": 50
        }
      },
      "source": [
        "word_3 = ' '\n",
        "print(any(c.isspace() for c in word_3))\n",
        "\n",
        "word_4 = ''\n",
        "print(any(c.isspace() for c in word_4))"
      ],
      "execution_count": 0,
      "outputs": [
        {
          "output_type": "stream",
          "text": [
            "True\n",
            "False\n"
          ],
          "name": "stdout"
        }
      ]
    },
    {
      "cell_type": "markdown",
      "metadata": {
        "id": "WlgQdALoVtof",
        "colab_type": "text"
      },
      "source": [
        "\n",
        "\n",
        "### P5.PY\n",
        "\n",
        "\n"
      ]
    },
    {
      "cell_type": "code",
      "metadata": {
        "id": "7_k9rebsVtog",
        "colab_type": "code",
        "outputId": "98a10462-1398-479e-8460-32254b644bac",
        "colab": {
          "base_uri": "https://localhost:8080/",
          "height": 84
        }
      },
      "source": [
        "\"\"\"\n",
        "truthTableEvaluator\n",
        "\"\"\"\n",
        "\n",
        "# Given the following inputs:\n",
        "\n",
        "\n",
        "# P = # True or False\n",
        "# Q = # True or False\n",
        "# op = # '^' (logical AND, conjunction)\n",
        "#      # OR, 'v' (logical OR, disjunction)\n",
        "#      # OR, '->' (logical conditional, implication)\n",
        "#      # OR, '<->' (biconditional)\n",
        "# determine the correct outcome.\n",
        "# https://medium.com/i-math/intro-to-truth-tables-boolean-algebra-73b331dd9b94\n",
        "\n",
        "P = 'True'\n",
        "Q = 'False'\n",
        "\n",
        "#1 - AND ^ Operator - Logical Conjunction\n",
        "if P == 'True' and Q == 'True':\n",
        "  print ('Logical Conjunction (AND) Results as'' True')\n",
        "else:\n",
        "  print('Logical Conjunction (AND) Results as'' False')\n",
        "\n",
        "#2 - OR Operator - Logical Disjunction\n",
        "if P == 'False' or Q == 'False':\n",
        "  print ('Logical Disjunction (OR) Results as'' False')\n",
        "else:\n",
        "  print('Logical Disjunction (OR) Results as'' True')\n",
        "\n",
        "#3 - -> Operator - Logical Implication\n",
        "if not P == 'True' or Q == 'False':\n",
        "  print ('Logical Implication -> Results as'' False')\n",
        "else:\n",
        "  print('Logical Implication -> Results as'' True')\n",
        "\n",
        "#4 - <-> R Operator - Logical Equality\n",
        "if (P == 'True' and Q == 'True') or (P == 'False' and Q == 'False'):\n",
        "  print ('Logical Equality -> Results as'' True')\n",
        "else:\n",
        "  print('Logical Equality -> Results as'' False')\n",
        "\n",
        "\n",
        "\n",
        "\n"
      ],
      "execution_count": 0,
      "outputs": [
        {
          "output_type": "stream",
          "text": [
            "Logical Conjunction (AND) Results as False\n",
            "Logical Disjunction (OR) Results as False\n",
            "Logical Implication -> Results as False\n",
            "Logical Equality -> Results as False\n"
          ],
          "name": "stdout"
        }
      ]
    },
    {
      "cell_type": "code",
      "metadata": {
        "id": "fn30nmQ_FFlo",
        "colab_type": "code",
        "colab": {}
      },
      "source": [
        ""
      ],
      "execution_count": 0,
      "outputs": []
    },
    {
      "cell_type": "markdown",
      "metadata": {
        "id": "zayFQdU7Vto2",
        "colab_type": "text"
      },
      "source": [
        "## RANDOM NUMBERS\n",
        "\n",
        "\n",
        "\n",
        "\n"
      ]
    },
    {
      "cell_type": "markdown",
      "metadata": {
        "id": "gtAK4fQAV9BC",
        "colab_type": "text"
      },
      "source": [
        "### P1.PY"
      ]
    },
    {
      "cell_type": "code",
      "metadata": {
        "id": "_dlFvP4QVto3",
        "colab_type": "code",
        "colab": {}
      },
      "source": [
        "\"\"\"\n",
        "Generate Traffic Light\n",
        "\"\"\"\n",
        "\n",
        "# import python randomint package\n",
        "\n",
        "\n",
        "# generates a random number from 1 to 3\n",
        "\n",
        "\n",
        "# if 1, print 'red'\n",
        "# if 2, print 'green',\n",
        "# if 3, print 'yellow'\n"
      ],
      "execution_count": 0,
      "outputs": []
    },
    {
      "cell_type": "code",
      "metadata": {
        "id": "gAje5dAY-ACP",
        "colab_type": "code",
        "outputId": "c429bfd2-187e-4376-db02-9310d15be702",
        "colab": {
          "base_uri": "https://localhost:8080/",
          "height": 34
        }
      },
      "source": [
        "import random\n",
        "\n",
        "randn = random.randint(1, 3)\n",
        "\n",
        "if randn is 1:\n",
        "  print ('red')\n",
        "elif randn is 2:\n",
        " print ('green')\n",
        "else:\n",
        " print ('yellow')\n",
        "\n"
      ],
      "execution_count": 0,
      "outputs": [
        {
          "output_type": "stream",
          "text": [
            "red\n"
          ],
          "name": "stdout"
        }
      ]
    },
    {
      "cell_type": "markdown",
      "metadata": {
        "id": "nO0LSd8SVto5",
        "colab_type": "text"
      },
      "source": [
        "\n",
        "\n",
        "### P2.PY\n",
        "\n",
        "\n"
      ]
    },
    {
      "cell_type": "code",
      "metadata": {
        "id": "Dp5jFc2fVtpF",
        "colab_type": "code",
        "colab": {}
      },
      "source": [
        "\"\"\"\n",
        "Generate Phone Number w/Area Code\n",
        "\"\"\"\n",
        "\n",
        "# Generate a random phone number using these SPECS:\n",
        "### Should be a string in this format: 1-718-786-2825\n",
        "### Must randomly choose one of these area codes: 646, 718, 212"
      ],
      "execution_count": 0,
      "outputs": []
    },
    {
      "cell_type": "code",
      "metadata": {
        "id": "UHha-KOf8bPt",
        "colab_type": "code",
        "outputId": "b7b6d609-2590-4ee3-c76a-cb5b332d441c",
        "colab": {
          "base_uri": "https://localhost:8080/",
          "height": 34
        }
      },
      "source": [
        "#create digits\n",
        "\n",
        "rand1 = str(random.randint(0, 9))\n",
        "rand2 = str(random.randint(0, 9))\n",
        "rand3 = str(random.randint(0, 9))\n",
        "rand4 = str(random.randint(0, 9))\n",
        "rand5 = str(random.randint(0, 9))\n",
        "\n",
        "random_number = \"1-646-\" + rand1 + rand2 + rand3 + \"-\" + rand4 + rand5\n",
        "print(random_number)\n"
      ],
      "execution_count": 0,
      "outputs": [
        {
          "output_type": "stream",
          "text": [
            "1-646-219-83\n"
          ],
          "name": "stdout"
        }
      ]
    },
    {
      "cell_type": "markdown",
      "metadata": {
        "id": "gRweE3nDVtpK",
        "colab_type": "text"
      },
      "source": [
        "## RPS\n",
        "\n",
        "\n"
      ]
    },
    {
      "cell_type": "markdown",
      "metadata": {
        "id": "IFUwrDumV_Vn",
        "colab_type": "text"
      },
      "source": [
        "### P1.PY"
      ]
    },
    {
      "cell_type": "code",
      "metadata": {
        "id": "sYTmAYzDVtpL",
        "colab_type": "code",
        "outputId": "9177843e-6dc0-4c04-c341-0122f9b1637d",
        "colab": {
          "base_uri": "https://localhost:8080/",
          "height": 34
        }
      },
      "source": [
        "\"\"\"\n",
        "Play RPS\n",
        "\"\"\"\n",
        "# Given a p1 and p2\n",
        "# print 1 if p1 has won\n",
        "# print 2 if p2 has won\n",
        "# print 0 if tie\n",
        "# print -1 if invalid input\n",
        "# expects both p1 and p2 inputs to be either\n",
        "# \"r\", \"p\", or \"s\"\n",
        "\n",
        "p1 = 's'  # or 'p' or 's'\n",
        "p2 = 'p'  # or 'p' or 's'\n",
        "\n",
        "if (p1 == 'p' and p2 == 'p') or (p1 == 'r' and p2 == 'r') or (p1 == 's' and p2 == 's'):\n",
        "  print ('tie')\n",
        "elif (p1 == 'p' and p2 == 'r') or (p1 == 'r' and p2 == 'p'):\n",
        "  print ('Paper Wins Rock')\n",
        "elif (p1 == 'p' and p2 == 's') or (p1 == 's' and p2 == 'p'):\n",
        "  print ('Scissors Wins paper')\n",
        "else:\n",
        "  print ('Rock Wins Scissors')\n",
        "\n"
      ],
      "execution_count": 4,
      "outputs": [
        {
          "output_type": "stream",
          "text": [
            "Scissors Wins paper\n"
          ],
          "name": "stdout"
        }
      ]
    },
    {
      "cell_type": "code",
      "metadata": {
        "id": "cGyfC10i-reB",
        "colab_type": "code",
        "colab": {}
      },
      "source": [
        ""
      ],
      "execution_count": 0,
      "outputs": []
    },
    {
      "cell_type": "markdown",
      "metadata": {
        "id": "fp77AykMVtpN",
        "colab_type": "text"
      },
      "source": [
        "\n",
        "\n",
        "### P2.PY\n",
        "\n",
        "\n"
      ]
    },
    {
      "cell_type": "code",
      "metadata": {
        "id": "mKMaxGH8VtpO",
        "colab_type": "code",
        "colab": {
          "base_uri": "https://localhost:8080/",
          "height": 34
        },
        "outputId": "edd77abc-7490-47ba-8085-9a2bf4c650ec"
      },
      "source": [
        "\"\"\"\n",
        "Play RPS w/Computer\n",
        "\"\"\"\n",
        "\n",
        "import random\n",
        "\n",
        "#Assign options to integers\n",
        "r = 1\n",
        "p = 2\n",
        "s = 3\n",
        "\n",
        "p1 = random.randint(1,3)  # randomly choose 'r' or 'p' or 's'\n",
        "p2 = random.randint(1,3)   # randomly choose 'r' or 'p' or 's'\n",
        "\n",
        "if (p1 == 1 and p2 == 1) or (p1 == 2 and p2 == 2) or (p1 == 3 and p2 == 3):\n",
        "  print ('tie')\n",
        "elif (p1 == 2 and p2 == 1) or (p1 == 1 and p2 == 2):\n",
        "  print ('Paper Wins Rock')\n",
        "elif (p1 == 2 and p2 == 3) or (p1 == 3 and p2 == 2):\n",
        "  print ('Scissors Wins paper')\n",
        "else:\n",
        "  print ('Rock Wins Scissors')"
      ],
      "execution_count": 26,
      "outputs": [
        {
          "output_type": "stream",
          "text": [
            "Paper Wins Rock\n"
          ],
          "name": "stdout"
        }
      ]
    },
    {
      "cell_type": "markdown",
      "metadata": {
        "id": "INgOFvdoVtpU",
        "colab_type": "text"
      },
      "source": [
        "\n",
        "\n",
        "### P3.PY\n",
        "\n",
        "\n"
      ]
    },
    {
      "cell_type": "code",
      "metadata": {
        "id": "vhAAHjMSVtpV",
        "colab_type": "code",
        "colab": {
          "base_uri": "https://localhost:8080/",
          "height": 67
        },
        "outputId": "7a90cf0f-dbf8-44ad-83bb-0f316e54168d"
      },
      "source": [
        "\"\"\"\n",
        "Play RPS w/Input\n",
        "\"\"\"\n",
        "p1 = input (\"Choose and Write 'r' for Rock or 'p' for Paper or 's' for Scissors: \")\n",
        "p2 = input (\"Choose and Write 'r' for Rock or 'p' for Paper or 's' for Scissors: \")\n",
        "\n",
        "if (p1 == 'p' and p2 == 'p') or (p1 == 'r' and p2 == 'r') or (p1 == 's' and p2 == 's'):\n",
        "  print ('tie')\n",
        "elif (p1 == 'p' and p2 == 'r') or (p1 == 'r' and p2 == 'p'):\n",
        "  print ('Paper Wins Rock')\n",
        "elif (p1 == 'p' and p2 == 's') or (p1 == 's' and p2 == 'p'):\n",
        "  print ('Scissors Wins paper')\n",
        "else:\n",
        "  print ('Rock Wins Scissors')\n"
      ],
      "execution_count": 71,
      "outputs": [
        {
          "output_type": "stream",
          "text": [
            "Choose and Write 'r' for Rock or 'p' for Paper or 's' for Scissors: r\n",
            "Choose and Write 'r' for Rock or 'p' for Paper or 's' for Scissors: s\n",
            "Rock Wins Scissors\n"
          ],
          "name": "stdout"
        }
      ]
    },
    {
      "cell_type": "markdown",
      "metadata": {
        "id": "SUqNu57OVtpY",
        "colab_type": "text"
      },
      "source": [
        "\n",
        "\n",
        "### P4.PY\n",
        "\n",
        "\n"
      ]
    },
    {
      "cell_type": "code",
      "metadata": {
        "id": "Vmlr5AqSVtpY",
        "colab_type": "code",
        "colab": {
          "base_uri": "https://localhost:8080/",
          "height": 101
        },
        "outputId": "3c9d5209-9abc-4d6e-a2ea-4de2f72b15ec"
      },
      "source": [
        "\"\"\"\n",
        "Play RPS against Computer\n",
        "\"\"\"\n",
        "\n",
        "#p1 = None  # from user input - we still want validation from above!\n",
        "#p2 = None  # randomly generated against computer\n",
        "\n",
        "# Given a p1 and p2\n",
        "# print 1 if p1 has won\n",
        "# print 2 if p2 has won\n",
        "# print 0 if tie\n",
        "# print -1 if invalid input\n",
        "# expects both p1 and p2 inputs to be either\n",
        "# \"r\", \"p\", or \"s\"\n",
        "import random\n",
        "list1=['r', 'p', 's']\n",
        "p1=random.randint(0,3)\n",
        "print(list1[p1])\n",
        "\n",
        "p2 = input (\"Choose and Write r for Rock or p for Paper or s for Scissors: \")\n",
        "print (f\"choice 2 is: {p2}\")\n",
        "print (f\"choice 2 type is: {type(p2)}\")\n",
        "\n",
        "if (p1 == 'p' and p2 == 'p') or (p1 == 'r' and p2 == 'r') or (p1 == 's' and p2 == 's'):\n",
        "  print ('tie')\n",
        "elif (p1 == 'p' and p2 == 'r') or (p1 == 'r' and p2 == 'p'):\n",
        "  print ('Paper Wins Rock')\n",
        "elif (p1 == 'p' and p2 == 's') or (p1 == 's' and p2 == 'p'):\n",
        "  print ('Scissors Wins paper')\n",
        "else:\n",
        "  print ('Rock Wins Scissors')\n"
      ],
      "execution_count": 74,
      "outputs": [
        {
          "output_type": "stream",
          "text": [
            "p\n",
            "Choose and Write r for Rock or p for Paper or s for Scissors: r\n",
            "choice 2 is: r\n",
            "choice 2 type is: <class 'str'>\n",
            "Rock Wins Scissors\n"
          ],
          "name": "stdout"
        }
      ]
    },
    {
      "cell_type": "markdown",
      "metadata": {
        "id": "F_7aaMtoVtpt",
        "colab_type": "text"
      },
      "source": [
        "\n",
        "\n",
        "### P5.PY\n",
        "\n",
        "\n"
      ]
    },
    {
      "cell_type": "code",
      "metadata": {
        "id": "U24EGu3VVtpu",
        "colab_type": "code",
        "colab": {
          "base_uri": "https://localhost:8080/",
          "height": 101
        },
        "outputId": "4fbd1efd-2713-4ae3-916d-0564e66acc48"
      },
      "source": [
        "\"\"\"\n",
        "Play RPS w/Bad Input\n",
        "\"\"\"\n",
        "\n",
        "p1 = None  # can be invalid!\n",
        "p2 = None  # can be invalid!\n",
        "\n",
        "\"\"\"\n",
        "This is the same as the original RPS problem, \n",
        "except that cannot expect the input to be valid. \n",
        "While we *want* `r` or `p` or `s`, there is a possibility \n",
        "that input can be anything like...\n",
        "\n",
        "* `ROCK` (all caps)\n",
        "* `R` (`r` but capitalized)\n",
        "* `PAPrrRR` (incorrectly spelled, upper/lowercased)\n",
        "\n",
        "Implement conditional statements that will sanitize the \n",
        "user input or let user know that input is invalid.\n",
        "\"\"\"\n",
        "p1 = input (\"Choose and Write 'r' for Rock or 'p' for Paper or 's' for Scissors: \")\n",
        "p2 = input (\"Choose and Write 'r' for Rock or 'p' for Paper or 's' for Scissors: \")\n",
        "\n",
        "if (p1 == 'p' and p2 == 'p') or (p1 == 'r' and p2 == 'r') or (p1 == 's' and p2 == 's'):\n",
        "  print ('tie')\n",
        "elif (p1 == 'p' and p2 == 'r') or (p1 == 'r' and p2 == 'p'):\n",
        "  print ('Paper Wins Rock')\n",
        "elif (p1 == 'p' and p2 == 's') or (p1 == 's' and p2 == 'p'):\n",
        "  print ('Scissors Wins paper')\n",
        "elif (p1 == 'r' and p2 == 's') or (p1 == 's' and p2 == 'r'):\n",
        "  print ('Rock Wins Scissors')\n",
        "else:\n",
        "  print('Invalid Input. Please try again')\n",
        "  p1 = input (\"Choose and Write 'r' for Rock or 'p' for Paper or 's' for Scissors: \")\n",
        "  p2 = input (\"Choose and Write 'r' for Rock or 'p' for Paper or 's' for Scissors: \")\n",
        "   if (p1 =! r or p1 = \n",
        "\n"
      ],
      "execution_count": 77,
      "outputs": [
        {
          "output_type": "stream",
          "text": [
            "Choose and Write 'r' for Rock or 'p' for Paper or 's' for Scissors: RO\n",
            "Choose and Write 'r' for Rock or 'p' for Paper or 's' for Scissors: P\n",
            "Invalid Input. Please try again\n",
            "Choose and Write 'r' for Rock or 'p' for Paper or 's' for Scissors: ROC\n",
            "Choose and Write 'r' for Rock or 'p' for Paper or 's' for Scissors: F\n"
          ],
          "name": "stdout"
        }
      ]
    },
    {
      "cell_type": "code",
      "metadata": {
        "id": "fu-mScgiQuhF",
        "colab_type": "code",
        "colab": {
          "base_uri": "https://localhost:8080/",
          "height": 67
        },
        "outputId": "bbed0a18-960e-47f1-c4c1-be6c28508ac7"
      },
      "source": [
        "p1 = input (\"Choose and Write 'r' for Rock or 'p' for Paper or 's' for Scissors: \")\n",
        "p2 = input (\"Choose and Write 'r' for Rock or 'p' for Paper or 's' for Scissors: \")\n",
        "\n",
        "if (p1 != 'r' and p1 != 'p' and p1 != 's') or (p2 != 'r' and p2 != 'p' and p2 != 's'):\n",
        "  print ('Input is not valid. Please try again.')\n",
        "elif (p1 == 'p' and p2 == 'p') or (p1 == 'r' and p2 == 'r') or (p1 == 's' and p2 == 's'):\n",
        "  print ('tie')\n",
        "elif (p1 == 'p' and p2 == 'r') or (p1 == 'r' and p2 == 'p'):\n",
        "  print ('Paper Wins Rock')\n",
        "elif (p1 == 'p' and p2 == 's') or (p1 == 's' and p2 == 'p'):\n",
        "  print ('Scissors Wins paper')\n",
        "elif (p1 == 'r' and p2 == 's') or (p1 == 's' and p2 == 'r'):\n",
        "  print ('Rock Wins Scissors')\n"
      ],
      "execution_count": 95,
      "outputs": [
        {
          "output_type": "stream",
          "text": [
            "Choose and Write 'r' for Rock or 'p' for Paper or 's' for Scissors: RT\n",
            "Choose and Write 'r' for Rock or 'p' for Paper or 's' for Scissors: ;p\n",
            "Input is not valid. Please try again.\n"
          ],
          "name": "stdout"
        }
      ]
    }
  ]
}