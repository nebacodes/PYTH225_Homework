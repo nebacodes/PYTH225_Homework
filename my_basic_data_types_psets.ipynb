{
  "nbformat": 4,
  "nbformat_minor": 0,
  "metadata": {
    "colab": {
      "name": "my_basic_data_types_psets.ipynb",
      "provenance": [],
      "collapsed_sections": [
        "0o8YPHxoVrWL",
        "poqjlnEOVrWh",
        "pRORE6K8VrWy"
      ],
      "toc_visible": true,
      "include_colab_link": true
    },
    "kernelspec": {
      "name": "python3",
      "display_name": "Python 3"
    }
  },
  "cells": [
    {
      "cell_type": "markdown",
      "metadata": {
        "id": "view-in-github",
        "colab_type": "text"
      },
      "source": [
        "<a href=\"https://colab.research.google.com/github/nebacodes/PYTH225_Homework/blob/master/my_basic_data_types_psets.ipynb\" target=\"_parent\"><img src=\"https://colab.research.google.com/assets/colab-badge.svg\" alt=\"Open In Colab\"/></a>"
      ]
    },
    {
      "cell_type": "markdown",
      "metadata": {
        "id": "hFmxhgDQVrV8",
        "colab_type": "text"
      },
      "source": [
        "#  BASIC DATA TYPES\n",
        "\n"
      ]
    },
    {
      "cell_type": "markdown",
      "metadata": {
        "id": "KHSQHEC5Yhde",
        "colab_type": "text"
      },
      "source": [
        ""
      ]
    },
    {
      "cell_type": "markdown",
      "metadata": {
        "id": "uayAR97cWGX1",
        "colab_type": "text"
      },
      "source": [
        "## EASY"
      ]
    },
    {
      "cell_type": "markdown",
      "metadata": {
        "id": "CXt8F7evWHum",
        "colab_type": "text"
      },
      "source": [
        "### P1.PY"
      ]
    },
    {
      "cell_type": "code",
      "metadata": {
        "id": "gYyR5LKAVrWA",
        "colab_type": "code",
        "colab": {}
      },
      "source": [
        "\"\"\"\n",
        "Placeholders\n",
        "\"\"\"\n",
        "\n",
        "# You're writing a program, and you don't know what your starting value for your 'initial' variable is yet. \n",
        "#The program won't run if you leave it blank, but you don't want to forget you need it! Make a workaround.\n",
        "\n"
      ],
      "execution_count": 0,
      "outputs": []
    },
    {
      "cell_type": "code",
      "metadata": {
        "id": "wofJuULJM4cB",
        "colab_type": "code",
        "outputId": "d1b01ed7-80b3-487c-c61f-d6b92b115dcb",
        "colab": {
          "base_uri": "https://localhost:8080/",
          "height": 34
        }
      },
      "source": [
        "a = None\n",
        "print(a)"
      ],
      "execution_count": 0,
      "outputs": [
        {
          "output_type": "stream",
          "text": [
            "None\n"
          ],
          "name": "stdout"
        }
      ]
    },
    {
      "cell_type": "markdown",
      "metadata": {
        "id": "ujd4_d5VVrWD",
        "colab_type": "text"
      },
      "source": [
        "\n",
        "\n",
        "### P2.PY\n",
        "\n",
        "\n"
      ]
    },
    {
      "cell_type": "code",
      "metadata": {
        "id": "9p_mg-MjVrWE",
        "colab_type": "code",
        "colab": {}
      },
      "source": [
        "\"\"\"\n",
        "Basic Variables\n",
        "\"\"\"\n",
        "\n",
        "# Create a variable that represents your favorite number, and add a note to remind yourself what this variable represents. Now print it out without re-typing the number.\n",
        "\n",
        "\n",
        "\n",
        "# Create another variable that represents your favorite color, and do the same steps as above.\n",
        "\n"
      ],
      "execution_count": 0,
      "outputs": []
    },
    {
      "cell_type": "code",
      "metadata": {
        "id": "6BpG35jKNYHq",
        "colab_type": "code",
        "outputId": "1066b901-3037-4638-f5a6-d9a93c89224e",
        "colab": {
          "base_uri": "https://localhost:8080/",
          "height": 85
        }
      },
      "source": [
        "favorite_number = 11 \n",
        "print (favorite_number)\n",
        "a = 'is my favorite number'\n",
        "print(favorite_number, a)\n",
        "\n",
        "favorite_color = 'Blue'\n",
        "print (favorite_color)\n",
        "b = 'is my favorite color'\n",
        "print(favorite_color, b)"
      ],
      "execution_count": 0,
      "outputs": [
        {
          "output_type": "stream",
          "text": [
            "11\n",
            "11 is my favorite number\n",
            "Blue\n",
            "Blue is my favorite color\n"
          ],
          "name": "stdout"
        }
      ]
    },
    {
      "cell_type": "markdown",
      "metadata": {
        "id": "VbaMGAAYVrWH",
        "colab_type": "text"
      },
      "source": [
        "\n",
        "\n",
        "### P3.PY\n",
        "\n",
        "\n"
      ]
    },
    {
      "cell_type": "code",
      "metadata": {
        "id": "2i4mFvLGVrWI",
        "colab_type": "code",
        "colab": {}
      },
      "source": [
        "\"\"\"\n",
        "String Formatting\n",
        "\"\"\"\n",
        "\n",
        "# Create a variable that contains the first 4 lines of lyrics from your favorite song. Add a comment that includes the song title and artist **each on their own line**! Now print out this variable.\n",
        "\n"
      ],
      "execution_count": 0,
      "outputs": []
    },
    {
      "cell_type": "code",
      "metadata": {
        "id": "KMS3AMJMO1sK",
        "colab_type": "code",
        "outputId": "0589e805-8764-4310-a6a4-665ed199f6d3",
        "colab": {
          "base_uri": "https://localhost:8080/",
          "height": 204
        }
      },
      "source": [
        "tane = 200\n",
        "lyrics = f\"\"\" #this will ensure the curly bracket is treated as a function\n",
        "{tane} sari saclarini \n",
        "gonlume dolamissin cozulmuyor \n",
        "Mihriban\n",
        "\n",
        "\"\"\"\n",
        "song_title = \"\"\"\n",
        "Mihriban\n",
        "\n",
        "\"\"\"\n",
        "song_artist = \"\"\"\n",
        "Musa\n",
        "\"\"\"\n",
        "\n",
        "print(lyrics, song_title, song_artist)\n"
      ],
      "execution_count": 0,
      "outputs": [
        {
          "output_type": "stream",
          "text": [
            "\n",
            "200 sari saclarini \n",
            "gonlume dolamissin cozulmuyor \n",
            "Mihriban\n",
            "\n",
            " \n",
            "Mihriban\n",
            "\n",
            " \n",
            "Musa\n",
            "\n"
          ],
          "name": "stdout"
        }
      ]
    },
    {
      "cell_type": "markdown",
      "metadata": {
        "id": "poqjlnEOVrWh",
        "colab_type": "text"
      },
      "source": [
        "## OPERATORS\n",
        "\n",
        "\n",
        "\n"
      ]
    },
    {
      "cell_type": "markdown",
      "metadata": {
        "id": "3j0bS-HcWNLi",
        "colab_type": "text"
      },
      "source": [
        "### P1.PY"
      ]
    },
    {
      "cell_type": "code",
      "metadata": {
        "id": "poP19mJxVrWi",
        "colab_type": "code",
        "colab": {}
      },
      "source": [
        "\"\"\"\n",
        "Game Show Score\n",
        "\"\"\"\n",
        "\n",
        "# Imagine the var below represents the latest score of a competitor on a game \n",
        "#show. As this person plays, you need to update their score to reflect gains and\n",
        "# losses in points. Each math operation below dictates the change in the \n",
        "#competitor's score to be made after each of his or her actions.\n",
        "\n",
        "# Complete the below math operations and print the results to show the changes \n",
        "#in the competitor's score throughout the game.\n",
        "\n",
        "latest_score = 100\n",
        "print(latest_score)\n",
        "\n",
        "# Add 50\n",
        "\n",
        "\n",
        "\n",
        "# Subtract 90\n",
        "\n",
        "\n",
        "\n",
        "# Multiply 10\n",
        "\n",
        "\n",
        "\n",
        "# Divide 150\n",
        "\n",
        "\n",
        "\n",
        "# Modulus 3\n",
        "\n",
        "\n"
      ],
      "execution_count": 0,
      "outputs": []
    },
    {
      "cell_type": "code",
      "metadata": {
        "id": "LHzy9O21QKPS",
        "colab_type": "code",
        "outputId": "cc132eb0-8e1b-411b-a329-92a4470052e6",
        "colab": {
          "base_uri": "https://localhost:8080/",
          "height": 119
        }
      },
      "source": [
        "latest_score = 100 #starting score.\n",
        "print(latest_score)\n",
        "\n",
        "latest_score +=50\n",
        "print(latest_score)\n",
        "\n",
        "latest_score -= 90\n",
        "print(latest_score)\n",
        "\n",
        "latest_score *= 10\n",
        "print(latest_score)\n",
        "\n",
        "latest_score /= 150\n",
        "print(latest_score)\n",
        "\n",
        "latest_score %= 3\n",
        "print(latest_score)\n",
        "\n"
      ],
      "execution_count": 0,
      "outputs": [
        {
          "output_type": "stream",
          "text": [
            "100\n",
            "150\n",
            "60\n",
            "600\n",
            "4.0\n",
            "1.0\n"
          ],
          "name": "stdout"
        }
      ]
    },
    {
      "cell_type": "markdown",
      "metadata": {
        "id": "WAYZJHHgVrWk",
        "colab_type": "text"
      },
      "source": [
        "\n",
        "\n",
        "### P2.PY\n",
        "\n",
        "\n"
      ]
    },
    {
      "cell_type": "code",
      "metadata": {
        "id": "P067XIZ8VrWl",
        "colab_type": "code",
        "colab": {}
      },
      "source": [
        "\"\"\"\n",
        "String Operators\n",
        "\"\"\"\n",
        "\n",
        "# Create two variables, each of which is half of a compound sentence. \n",
        "## Example compound sentence: \"I'll go to the beach today, and I'll go snorkeling.\" "
      ],
      "execution_count": 0,
      "outputs": []
    },
    {
      "cell_type": "code",
      "metadata": {
        "id": "3FrscaykqFg4",
        "colab_type": "code",
        "outputId": "729d0754-06b4-41e8-9ec6-d43ed5f3947e",
        "colab": {
          "base_uri": "https://localhost:8080/",
          "height": 34
        }
      },
      "source": [
        "string1 = \"I would like to learn Python\"\n",
        "string2 = 'really well!'\n",
        "\n",
        "print(string1, string2)"
      ],
      "execution_count": 0,
      "outputs": [
        {
          "output_type": "stream",
          "text": [
            "I would like to learn Python really well!\n"
          ],
          "name": "stdout"
        }
      ]
    },
    {
      "cell_type": "markdown",
      "metadata": {
        "id": "TqqaKHjuVrWn",
        "colab_type": "text"
      },
      "source": [
        "\n",
        "\n",
        "### P3.PY\n",
        "\n",
        "\n"
      ]
    },
    {
      "cell_type": "code",
      "metadata": {
        "id": "H7kysyPYVrWo",
        "colab_type": "code",
        "colab": {}
      },
      "source": [
        "\"\"\"\n",
        "Addition I - Numbers & Strings\n",
        "\"\"\"\n",
        "\n",
        "# Add the below sets of variables together without causing any Type Errors. \n",
        "\n",
        "# A)\n",
        "a = 0\n",
        "b = 2\n",
        "\n",
        "\n",
        "\n",
        "# B)\n",
        "c = '0'\n",
        "d = '2'\n",
        "\n",
        "\n",
        "\n",
        "# C)\n",
        "e = '0'\n",
        "f = 2"
      ],
      "execution_count": 0,
      "outputs": []
    },
    {
      "cell_type": "code",
      "metadata": {
        "id": "Dp1Sd0Xwql7q",
        "colab_type": "code",
        "outputId": "2caeba32-63f6-413e-d60c-f46c6d2b2056",
        "colab": {
          "base_uri": "https://localhost:8080/",
          "height": 68
        }
      },
      "source": [
        "a = 3\n",
        "b = 5\n",
        "\n",
        "c = '0'\n",
        "d = '2'\n",
        "\n",
        "e = '0'\n",
        "f = 2\n",
        "f_string = str(e)\n",
        "\n",
        "addition1 = a + b\n",
        "print (addition1)\n",
        "\n",
        "addition2 = c + d + ' is the sum of two strings'\n",
        "print (addition2)\n",
        "\n",
        "addition3 = e + ' and ' + f_string\n",
        "print (addition3)\n"
      ],
      "execution_count": 0,
      "outputs": [
        {
          "output_type": "stream",
          "text": [
            "8\n",
            "02 is the sum of two strings\n",
            "0 and 0\n"
          ],
          "name": "stdout"
        }
      ]
    },
    {
      "cell_type": "markdown",
      "metadata": {
        "id": "T4rtuQ1CVrWr",
        "colab_type": "text"
      },
      "source": [
        "\n",
        "\n",
        "### P4.PY\n",
        "\n",
        "\n"
      ]
    },
    {
      "cell_type": "code",
      "metadata": {
        "id": "eCkVtKI8VrWs",
        "colab_type": "code",
        "colab": {}
      },
      "source": [
        "\"\"\"\n",
        "Addition II - Booleans\n",
        "\"\"\"\n",
        "\n",
        "# Add the below sets of variables together.\n",
        "\n",
        "# A)\n",
        "a = True\n",
        "b = True\n",
        "\n",
        "\n",
        "\n",
        "# B)\n",
        "c = False\n",
        "d = False\n",
        "\n",
        "\n",
        "\n",
        "# C)\n",
        "e = True\n",
        "f = False"
      ],
      "execution_count": 0,
      "outputs": []
    },
    {
      "cell_type": "code",
      "metadata": {
        "id": "zmncv_lds-iH",
        "colab_type": "code",
        "outputId": "ab3ae181-ee27-45a4-a553-f4e60cfca30c",
        "colab": {
          "base_uri": "https://localhost:8080/",
          "height": 153
        }
      },
      "source": [
        "# A)\n",
        "a = True\n",
        "a_to_int = int(a)\n",
        "print (a_to_int)\n",
        "\n",
        "b = True\n",
        "b_to_int = int(b)\n",
        "print (b_to_int)\n",
        "\n",
        "c = False\n",
        "c_to_int = int(c)\n",
        "print (c_to_int)\n",
        "\n",
        "d = False\n",
        "d_to_int = int(d)\n",
        "print (d_to_int)\n",
        "\n",
        "e = True\n",
        "e_to_int = int(e)\n",
        "print (e_to_int)\n",
        "\n",
        "f = False\n",
        "f_to_int = int(f)\n",
        "print (f_to_int)\n",
        "\n",
        "sum_total = a + b + c + d + e + f\n",
        "print (\"\"\"\n",
        "total = \"\"\", sum_total)"
      ],
      "execution_count": 0,
      "outputs": [
        {
          "output_type": "stream",
          "text": [
            "1\n",
            "1\n",
            "0\n",
            "0\n",
            "1\n",
            "0\n",
            "\n",
            "total =  3\n"
          ],
          "name": "stdout"
        }
      ]
    },
    {
      "cell_type": "markdown",
      "metadata": {
        "id": "0o8YPHxoVrWL",
        "colab_type": "text"
      },
      "source": [
        "## TYPECASTING\n",
        "\n"
      ]
    },
    {
      "cell_type": "markdown",
      "metadata": {
        "id": "XlNf2YptWKVu",
        "colab_type": "text"
      },
      "source": [
        "### P1.PY"
      ]
    },
    {
      "cell_type": "code",
      "metadata": {
        "id": "LDgWvrWzVrWM",
        "colab_type": "code",
        "colab": {}
      },
      "source": [
        "\"\"\"\n",
        "Typcasting w. Integers & Floats\n",
        "\"\"\"\n",
        "\n",
        "# Convert these numbers into floats and back. Print out each result as well as its data type.\n",
        "\n",
        "five = 5\n",
        "zero = 0\n",
        "neg_8 = -8\n",
        "neg_22 = -22"
      ],
      "execution_count": 0,
      "outputs": []
    },
    {
      "cell_type": "code",
      "metadata": {
        "id": "g1KeV5EEvvRh",
        "colab_type": "code",
        "outputId": "19c8648e-4c9a-4d62-9349-5149f13ed899",
        "colab": {
          "base_uri": "https://localhost:8080/",
          "height": 153
        }
      },
      "source": [
        "five = 5\n",
        "zero = 0\n",
        "neg_8 = -8\n",
        "neg_22 = -22\n",
        "\n",
        "five_new = int (five)\n",
        "five_back = float (five_new)\n",
        "print (five_new)\n",
        "print (five_back)\n",
        "\n",
        "zero_new = int (zero)\n",
        "zero_back = float (zero_new)\n",
        "print (zero_new)\n",
        "print (zero_back)\n",
        "\n",
        "neg_8_new = int (neg_8)\n",
        "neg_8_back = float (neg_8_new)\n",
        "print (neg_8_new)\n",
        "print (neg_8_back)\n",
        "\n",
        "neg_22_new = int (neg_22)\n",
        "neg_22_back = float (neg_22_new)\n",
        "print (neg_22_new)\n",
        "print (neg_22_back)"
      ],
      "execution_count": 0,
      "outputs": [
        {
          "output_type": "stream",
          "text": [
            "5\n",
            "5.0\n",
            "0\n",
            "0.0\n",
            "-8\n",
            "-8.0\n",
            "-22\n",
            "-22.0\n"
          ],
          "name": "stdout"
        }
      ]
    },
    {
      "cell_type": "code",
      "metadata": {
        "id": "_5-k5J4mVrWT",
        "colab_type": "code",
        "colab": {
          "base_uri": "https://localhost:8080/",
          "height": 185
        },
        "outputId": "ce566929-bc70-4056-98f9-30ac36eed14f"
      },
      "source": [
        "\"\"\"\n",
        "Typecasting w. Strings\n",
        "\"\"\"\n",
        "\n",
        "# Convert these variables into strings and then back to their original data types. Print out each result as well as its data type. What do you notice about the last one?\n",
        "\n",
        "five = 5\n",
        "zero = 0\n",
        "neg_8 = -8\n",
        "T = True\n",
        "F = False\n",
        "\n",
        "five_to_string = str(five)\n",
        "five_to_int = int(five_to_string)\n",
        "print(five_to_string)\n",
        "print(five_to_int)\n",
        "\n",
        "zero_to_string = str(zero)\n",
        "zero_to_int = int(zero_to_string)\n",
        "print(zero_to_string)\n",
        "print(zero_to_int)\n",
        "\n",
        "neg_8_to_string = str(neg_8)\n",
        "neg_8_to_int = int(neg_8_to_string)\n",
        "print(neg_8_to_string)\n",
        "print(neg_8_to_int)\n",
        "\n",
        "T_to_string = str(T)\n",
        "print(T_to_string, \"is of type\", type(T_to_string))\n",
        "\n",
        "T_to_int = bool(T_to_string)\n",
        "print(T_to_int, \"is of type\", type(T_to_int))\n",
        "\n",
        "F_to_string = str(T)\n",
        "print(F_to_string, \"is of type\", type(F_to_string))\n",
        "\n",
        "F_to_int = bool(F_to_string)\n",
        "print(F_to_int, \"is of type\", type(F_to_int))"
      ],
      "execution_count": 20,
      "outputs": [
        {
          "output_type": "stream",
          "text": [
            "5\n",
            "5\n",
            "0\n",
            "0\n",
            "-8\n",
            "-8\n",
            "True is of type <class 'str'>\n",
            "True is of type <class 'bool'>\n",
            "True is of type <class 'str'>\n",
            "True is of type <class 'bool'>\n"
          ],
          "name": "stdout"
        }
      ]
    },
    {
      "cell_type": "markdown",
      "metadata": {
        "id": "FO_LansxVrWV",
        "colab_type": "text"
      },
      "source": [
        "\n",
        "\n",
        "### P3.PY\n",
        "\n",
        "\n"
      ]
    },
    {
      "cell_type": "code",
      "metadata": {
        "id": "bSVcghffVrWW",
        "colab_type": "code",
        "colab": {}
      },
      "source": [
        "\"\"\"\n",
        "Booleans I - Typecasting w. Numbers\n",
        "\"\"\"\n",
        "\n",
        "# A) Use typecasting to turn these variables into boolean values. Print the result and the datatype of the result. \n",
        "\n",
        "one = 1\n",
        "zero = 0\n",
        "\n",
        "\n",
        "# B) Use typecasting to turn the resultant variables from part A into floats. Print the result and the datatype of the result.\n",
        "\n",
        "\n",
        "# C) Use typecasting to turn the resultant variables from part B back into booleans. Print the result and the datatype of the result.\n",
        "\n",
        "\n",
        "# D) Use typecasting to turn the resultant variables from part C into integers. Print the result and the datatype of the result.\n",
        "\n",
        "\n",
        "# E) Use typecasting to turn the variable below into a boolean value. Print the result and the datatype of the result. \n",
        "\n",
        "ten = 10\n",
        "\n"
      ],
      "execution_count": 0,
      "outputs": []
    },
    {
      "cell_type": "code",
      "metadata": {
        "colab_type": "code",
        "outputId": "780f86ad-874c-4790-8f6e-269f3b05cf29",
        "id": "Ebr9aNRZeveH",
        "colab": {
          "base_uri": "https://localhost:8080/",
          "height": 420
        }
      },
      "source": [
        "one = 1\n",
        "zero = 0\n",
        "# PART A: Convert to Boolean\n",
        "one_bool = bool(one)\n",
        "print(\"\"\"\n",
        "PART A:\n",
        "\"\"\", one_bool)\n",
        "print(type(one_bool))\n",
        "\n",
        "zero_bool = bool(zero)\n",
        "print(zero_bool)\n",
        "print(type(zero_bool))\n",
        "\n",
        "# PART B: From Boolean to Float\n",
        "one_float = float(one)\n",
        "print(\"\"\"\n",
        "PART B:\n",
        "\"\"\", one_float)\n",
        "print(type(one_float))\n",
        "\n",
        "zero_float = float(zero_bool)\n",
        "print(zero_float)\n",
        "print(type(zero_float))\n",
        "\n",
        "# PART C: From Float back to Boolean\n",
        "one_bool = bool(one_float)\n",
        "print(\"\"\"\n",
        "PART C:\n",
        "\"\"\", one_bool)\n",
        "print(type(one_bool))\n",
        "\n",
        "zero_bool = bool(zero_float)\n",
        "print(zero_bool)\n",
        "print(type(zero_bool))\n",
        "\n",
        "# PART D: From  Boolean to Integer\n",
        "one_int = int(one_bool)\n",
        "print(\"\"\"\n",
        "PART D:\n",
        "\"\"\", one_int)\n",
        "print(type(one_int))\n",
        "\n",
        "zero_int = int(zero_bool)\n",
        "print(zero_int)\n",
        "print(type(zero_int))\n"
      ],
      "execution_count": 37,
      "outputs": [
        {
          "output_type": "stream",
          "text": [
            "\n",
            "PART A:\n",
            " True\n",
            "<class 'bool'>\n",
            "False\n",
            "<class 'bool'>\n",
            "\n",
            "PART B:\n",
            " 1.0\n",
            "<class 'float'>\n",
            "0.0\n",
            "<class 'float'>\n",
            "\n",
            "PART C:\n",
            " True\n",
            "<class 'bool'>\n",
            "False\n",
            "<class 'bool'>\n",
            "\n",
            "PART D:\n",
            " 1\n",
            "<class 'int'>\n",
            "0\n",
            "<class 'int'>\n"
          ],
          "name": "stdout"
        }
      ]
    },
    {
      "cell_type": "code",
      "metadata": {
        "id": "SfZi-wIxhmSN",
        "colab_type": "code",
        "colab": {
          "base_uri": "https://localhost:8080/",
          "height": 101
        },
        "outputId": "f0b9b61c-ac60-4ab5-b48e-df4a794850d5"
      },
      "source": [
        "# PART E: Ten = 10 to Boolean Value\n",
        "ten = 10\n",
        "\n",
        "ten_to_string = str(ten)\n",
        "print(ten_to_string)\n",
        "print(type(ten_to_string))\n",
        "\n",
        "ten_to_bool=bool(ten_to_string)\n",
        "print(\"\"\"\n",
        "\"\"\", ten_to_bool)\n",
        "print(type(ten_to_bool))"
      ],
      "execution_count": 43,
      "outputs": [
        {
          "output_type": "stream",
          "text": [
            "10\n",
            "<class 'str'>\n",
            "\n",
            " True\n",
            "<class 'bool'>\n"
          ],
          "name": "stdout"
        }
      ]
    },
    {
      "cell_type": "markdown",
      "metadata": {
        "id": "Q7lEbfSQVrWc",
        "colab_type": "text"
      },
      "source": [
        "\n",
        "\n",
        "### P4.PY\n",
        "\n",
        "\n"
      ]
    },
    {
      "cell_type": "code",
      "metadata": {
        "id": "YFLt2TDXVrWf",
        "colab_type": "code",
        "colab": {}
      },
      "source": [
        "\"\"\"\n",
        "Booleans II - Typecasting w. Strings\n",
        "\"\"\"\n",
        "\n",
        "# A) Use typecasting to turn these variables into boolean values. Print the result and the datatype of the result. \n",
        "\n",
        "one = 1\n",
        "zero = 0\n",
        "T = True\n",
        "F = False\n",
        "\n",
        "\n",
        "# B) Use typecasting to turn the latest values for variables 'one' and 'zero' back into integers. Print the result and the datatype of the result.\n",
        "\n",
        "\n",
        "\n",
        "# C) Use typecasting to turn the latest values for variables 'T' and 'F' back into boolean values. Print the result and the datatype of the result.\n",
        "\n",
        "\n",
        "\n",
        "\n"
      ],
      "execution_count": 0,
      "outputs": []
    },
    {
      "cell_type": "code",
      "metadata": {
        "id": "NESeOZWZ6vjV",
        "colab_type": "code",
        "colab": {
          "base_uri": "https://localhost:8080/",
          "height": 151
        },
        "outputId": "76138dc1-d166-4c66-fff9-b1c40ffff7c4"
      },
      "source": [
        "one = 1\n",
        "zero = 0\n",
        "T = True\n",
        "F = False\n",
        "\n",
        "one_bool_2 = bool(one)\n",
        "print (\"\"\"\n",
        "\"\"\", one_bool_2, type(one_bool_2))\n",
        "\n",
        "zero_bool_2 = bool(zero)\n",
        "print (\"\"\"\n",
        "\"\"\", zero_bool_2, type(zero_bool_2))\n",
        "\n",
        "T_to_bool = bool(T)\n",
        "print (\"\"\"\n",
        "\"\"\", T_to_bool, type(T_to_bool))\n",
        "\n",
        "F_to_bool = bool(F)\n",
        "print (\"\"\"\n",
        "\"\"\", F_to_bool, type(F_to_bool))"
      ],
      "execution_count": 51,
      "outputs": [
        {
          "output_type": "stream",
          "text": [
            "\n",
            " True <class 'bool'>\n",
            "\n",
            " False <class 'bool'>\n",
            "\n",
            " True <class 'bool'>\n",
            "\n",
            " False <class 'bool'>\n"
          ],
          "name": "stdout"
        }
      ]
    },
    {
      "cell_type": "markdown",
      "metadata": {
        "id": "pRORE6K8VrWy",
        "colab_type": "text"
      },
      "source": [
        "## SHOPPING_LIST\n",
        "\n",
        "\n"
      ]
    },
    {
      "cell_type": "markdown",
      "metadata": {
        "id": "sX291wpjWQea",
        "colab_type": "text"
      },
      "source": [
        "### P1.PY"
      ]
    },
    {
      "cell_type": "code",
      "metadata": {
        "id": "kH5HZBmiVrWy",
        "colab_type": "code",
        "colab": {
          "base_uri": "https://localhost:8080/",
          "height": 101
        },
        "outputId": "9a62c269-58d6-4178-bcde-8403393c4f62"
      },
      "source": [
        "\"\"\"\n",
        "Shopping List Calculator I\n",
        "\"\"\"\n",
        "\n",
        "# Create five variables,\n",
        "# set them to strings that represent 5 common shopping list items\n",
        "\n",
        "\n",
        "item_name_1 = 'Kale'\n",
        "item_name_2 = 'Brussels'\n",
        "item_name_3 = 'Lemons'\n",
        "item_name_4 = 'Garlic'\n",
        "item_name_5 = 'Apples'\n",
        "\n",
        "# Create five more variables,\n",
        "# set them to floats that represent the prices of each of the items above\n",
        "\n",
        "item_price_1 = 5.5\n",
        "item_price_2 = 7.2\n",
        "item_price_3 = 2.1\n",
        "item_price_4 = 1.0\n",
        "item_price_5 = 8.5\n",
        "\n",
        "# Create five more variables,\n",
        "# set them to ints that represent the quantity of each of the items above\n",
        "item_quant_1 = 1\n",
        "item_quant_2 = 2\n",
        "item_quant_3 = 2\n",
        "item_quant_4 = 1\n",
        "item_quant_5 =5\n",
        "\n",
        "# Print to the console the name and price of each item defined above as follows:\n",
        "# 1 Coco Puffs = $8.95.\n",
        "# where:\n",
        "# 1 would be item_quant_1\n",
        "# Coco Puffs would be item_name_1\n",
        "# 8.95 would be item_name_2\n",
        "\n",
        "print(item_quant_1, \"box of\", item_name_1, \" = $\", item_price_1)\n",
        "print(item_quant_2, \"bags of\", item_name_2, \" = $\", item_price_2)\n",
        "print(item_quant_3, item_name_3, \" = $\", item_price_3)\n",
        "print(item_quant_4, item_name_4, \" = $\", item_price_4)\n",
        "print(item_quant_5, item_name_5, \" = $\", item_price_5)\n"
      ],
      "execution_count": 59,
      "outputs": [
        {
          "output_type": "stream",
          "text": [
            "1 box of Kale  = $ 5.5\n",
            "2 bags of Brussels  = $ 7.2\n",
            "2 Lemons  = $ 2.1\n",
            "1 Garlic  = $ 1.0\n",
            "5 Apples  = $ 8.5\n"
          ],
          "name": "stdout"
        }
      ]
    },
    {
      "cell_type": "markdown",
      "metadata": {
        "id": "tr50TO3xVrW1",
        "colab_type": "text"
      },
      "source": [
        "\n",
        "\n",
        "### P2.PY\n",
        "\n",
        "\n"
      ]
    },
    {
      "cell_type": "code",
      "metadata": {
        "id": "_6WnvYbpVrW2",
        "colab_type": "code",
        "colab": {}
      },
      "source": [
        "\"\"\"\n",
        "Shopping List Calculator II\n",
        "\"\"\"\n",
        "\n",
        "# Rewrite p1, but this time use the input() command to solicit user input for name, price, quantity. Here's how it works:\n",
        "\n",
        "# item_name_1 = input('Name your first item: ')\n",
        "\t# ^ this will ask user to input value of item_name_1\n",
        "# use input() function and ask user to name items\n",
        "item_name_1 = None\n",
        "item_name_2 = None\n",
        "item_name_3 = None\n",
        "item_name_4 = None\n",
        "item_name_5 = None\n",
        "\n",
        "# use input() function and ask user to name prices\n",
        "item_price_1 = None\n",
        "item_price_2 = None\n",
        "item_price_3 = None\n",
        "item_price_4 = None\n",
        "item_price_5 = None\n",
        "\n",
        "# use input() function and ask user to name quants\n",
        "item_quant_1 = None\n",
        "item_quant_2 = None\n",
        "item_quant_3 = None\n",
        "item_quant_4 = None\n",
        "item_quant_5 = None\n",
        "\n",
        "# Print to the console the name and price of each item defined above as follows:\n",
        "# 1 Coco Puffs = $8.95.\n",
        "# where:\n",
        "# 1 would be item_quant_1\n",
        "# Coco Puffs would be item_name_1\n",
        "# 8.95 would be item_name_2\n",
        "\n",
        "# JUST REMEMBER: now this will be defined by the user!!\n"
      ],
      "execution_count": 0,
      "outputs": []
    },
    {
      "cell_type": "code",
      "metadata": {
        "id": "fnoHN5x7AR0Y",
        "colab_type": "code",
        "colab": {
          "base_uri": "https://localhost:8080/",
          "height": 622
        },
        "outputId": "290ccc43-29a2-4b8c-acfb-1a4c96691f0c"
      },
      "source": [
        "item_name_1 = input('Name your first item: ')\n",
        "item_price_1 = input('What is the price of this item?: ') \n",
        "item_quant_1 = input('What is the quantity of this item?: ')\n",
        "print(item_quant_1, item_name_1, \" = $\", item_price_1)\n",
        "\n",
        "item_name_2 = input(\"\"\"\n",
        "Name your second item:\n",
        "\"\"\") \n",
        "item_price_2 = input('What is the price of this item?: ') \n",
        "item_quant_2 = input('What is the quantity of this item?: ')\n",
        "print(item_quant_2, item_name_2, \" = $\", item_price_2)\n",
        "\n",
        "item_name_3 = input(\"\"\"\n",
        "Name your third item:\n",
        "\"\"\") \n",
        "item_price_3 = input('What is the price of this item?: ') \n",
        "item_quant_3 = input('What is the quantity of this item?: ')\n",
        "print(item_quant_3, item_name_3, \" = $\", item_price_3)\n",
        "\n",
        "item_name_4 = input(\"\"\"\n",
        "Name your fourth item:\n",
        "\"\"\") \n",
        "item_price_4 = input('What is the price of this item?: ') \n",
        "item_quant_4 = input('What is the quantity of this item?: ')\n",
        "print(item_quant_4, item_name_4, \" = $\", item_price_4)\n",
        "\n",
        "item_name_5 = input(\"\"\"\n",
        "Name your fifth item:\n",
        "\"\"\") \n",
        "item_price_5 = input('What is the price of this item?: ') \n",
        "item_quant_5 = input('What is the quantity of this item?: ')\n",
        "print(item_quant_5, item_name_5, \" = $\", item_price_5)\n",
        "\n",
        "print(\"\"\"\n",
        "The Complete List is again displayed here for you below:\n",
        "\"\"\")\n",
        "print(item_quant_1, item_name_1, \" = $\", item_price_1)\n",
        "print(item_quant_2, item_name_2, \" = $\", item_price_2)\n",
        "print(item_quant_3, item_name_3, \" = $\", item_price_3)\n",
        "print(item_quant_4, item_name_4, \" = $\", item_price_4)\n",
        "print(item_quant_5, item_name_5, \" = $\", item_price_5)\n"
      ],
      "execution_count": 71,
      "outputs": [
        {
          "output_type": "stream",
          "text": [
            "Name your first item: Kale\n",
            "What is the price of this item?: 5.2\n",
            "What is the quantity of this item?: 1\n",
            "1 Kale  = $ 5.2\n",
            "\n",
            "Name your second item:\n",
            "Lemons\n",
            "What is the price of this item?: 2.3\n",
            "What is the quantity of this item?: 3\n",
            "3 Lemons  = $ 2.3\n",
            "\n",
            "Name your third item:\n",
            "Juice\n",
            "What is the price of this item?: 5\n",
            "What is the quantity of this item?: 1\n",
            "1 Juice  = $ 5\n",
            "\n",
            "Name your fourth item:\n",
            "Apples\n",
            "What is the price of this item?: 2\n",
            "What is the quantity of this item?: 3\n",
            "3 Apples  = $ 2\n",
            "\n",
            "Name your fifth item:\n",
            "Milk\n",
            "What is the price of this item?: 3\n",
            "What is the quantity of this item?: 1\n",
            "1 Milk  = $ 3\n",
            "\n",
            "The Complete List is again displayed here for you below:\n",
            "\n",
            "1 Kale  = $ 5.2\n",
            "3 Lemons  = $ 2.3\n",
            "1 Juice  = $ 5\n",
            "3 Apples  = $ 2\n",
            "1 Milk  = $ 3\n"
          ],
          "name": "stdout"
        }
      ]
    },
    {
      "cell_type": "markdown",
      "metadata": {
        "id": "vgZcfv-zVrW4",
        "colab_type": "text"
      },
      "source": [
        "\n"
      ]
    }
  ]
}